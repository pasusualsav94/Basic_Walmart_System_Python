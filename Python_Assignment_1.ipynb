{
 "cells": [
  {
   "cell_type": "code",
   "execution_count": 139,
   "metadata": {
    "id": "OBF0Quv3mbGO"
   },
   "outputs": [],
   "source": [
    "# Price Data\n",
    "\n",
    "item_dict = {'almonds': 6,\n",
    " 'antioxidant juice': 9,\n",
    " 'avocado': 1,\n",
    " 'black tea': 4,\n",
    " 'burgers': 4,\n",
    " 'champagne': 3,\n",
    " 'chicken': 4,\n",
    " 'chocolate': 7,\n",
    " 'chutney': 7,\n",
    " 'cookies': 7,\n",
    " 'cooking oil': 7,\n",
    " 'cottage cheese': 9,\n",
    " 'eggs': 9,\n",
    " 'energy bar': 9,\n",
    " 'energy drink': 3,\n",
    " 'extra dark chocolate': 8,\n",
    " 'french fries': 7,\n",
    " 'fresh tuna': 9,\n",
    " 'frozen smoothie': 7,\n",
    " 'frozen vegetables': 2,\n",
    " 'green grapes': 8,\n",
    " 'green tea': 8,\n",
    " 'honey': 9,\n",
    " 'light cream': 5,\n",
    " 'low fat yogurt': 4,\n",
    " 'meatballs': 9,\n",
    " 'milk': 5,\n",
    " 'mineral water': 2,\n",
    " 'oil': 9,\n",
    " 'olive oil': 8,\n",
    " 'pet food': 3,\n",
    " 'protein bar': 1,\n",
    " 'salad': 7,\n",
    " 'salmon': 3,\n",
    " 'shallot': 6,\n",
    " 'shrimp': 2,\n",
    " 'soup': 2,\n",
    " 'spaghetti': 6,\n",
    " 'spinach': 7,\n",
    " 'tomato juice': 8,\n",
    " 'tomatoes': 5,\n",
    " 'turkey': 8,\n",
    " 'vegetables mix': 3,\n",
    " 'whole wheat flour': 5,\n",
    " 'whole wheat pasta': 5,\n",
    " 'whole wheat rice': 4,\n",
    " 'yams': 7}"
   ]
  },
  {
   "cell_type": "code",
   "execution_count": 140,
   "metadata": {
    "id": "_uutgZt4mcgz"
   },
   "outputs": [],
   "source": [
    "# transaction data\n",
    "\n",
    "transaction_data = \\\n",
    "[['shrimp', 'almonds', 'avocado', 'vegetables mix', 'green grapes', 'whole wheat flour', 'yams', 'cottage cheese', 'energy drink', 'tomato juice', 'low fat yogurt', 'green tea', 'honey', 'salad', 'mineral water', 'salmon', 'antioxidant juice', 'frozen smoothie', 'spinach', 'olive oil'],\n",
    "['burgers', 'meatballs', 'eggs'],\n",
    "['chutney'],\n",
    "['turkey', 'avocado'],\n",
    "['mineral water', 'milk', 'energy bar', 'whole wheat rice', 'green tea'],\n",
    "['low fat yogurt'],\n",
    "['whole wheat pasta', 'french fries'],\n",
    "['soup', 'light cream', 'shallot'],\n",
    "['frozen vegetables', 'spaghetti', 'green tea'],\n",
    "['french fries'],\n",
    "['eggs', 'pet food'],\n",
    "['cookies'],\n",
    "['turkey', 'burgers', 'mineral water', 'eggs', 'cooking oil'],\n",
    "['spaghetti', 'champagne', 'cookies'],\n",
    "['mineral water', 'salmon'],\n",
    "['mineral water'],\n",
    "['shrimp', 'chocolate', 'chicken', 'honey', 'oil', 'cooking oil', 'low fat yogurt'],\n",
    "['turkey', 'eggs'],\n",
    "['turkey', 'fresh tuna', 'tomatoes', 'spaghetti', 'mineral water', 'black tea', 'salmon', 'eggs', 'chicken', 'extra dark chocolate'],\n",
    "['meatballs', 'milk', 'honey', 'french fries', 'protein bar']]"
   ]
  },
  {
   "cell_type": "code",
   "execution_count": 141,
   "metadata": {
    "id": "lTmOHxeVmjt0"
   },
   "outputs": [],
   "source": [
    "#Get total number of items present in data\n",
    "def get_number_of_items():\n",
    "    return len(item_dict.keys())"
   ]
  },
  {
   "cell_type": "code",
   "execution_count": 142,
   "metadata": {},
   "outputs": [],
   "source": [
    "#Get total number of transactions happened till now\n",
    "def total_transaction():\n",
    "    return len(transaction_data)"
   ]
  },
  {
   "cell_type": "code",
   "execution_count": 143,
   "metadata": {
    "scrolled": true
   },
   "outputs": [],
   "source": [
    "#Adding new item in data along with its d\n",
    "def add_item(item_name,item_cost):\n",
    "    msg = \"\"\n",
    "    if item_name not in item_dict.keys():\n",
    "        item_dict[item_name]= item_cost \n",
    "        msg = item_name + \" is added successfully\"\n",
    "    else:\n",
    "        msg = item_name + \" already exists\"\n",
    "    return msg"
   ]
  },
  {
   "cell_type": "code",
   "execution_count": 144,
   "metadata": {},
   "outputs": [],
   "source": [
    "#Deleting item from dictionary\n",
    "def remove_item(item_name):\n",
    "    msg = \"\"\n",
    "    if item_name in item_dict.keys():\n",
    "        del item_dict[item_name] \n",
    "        msg = item_name + \" is deleted successfully\"\n",
    "    else:\n",
    "        msg = item_name + \" does not exists\"\n",
    "    return msg"
   ]
  },
  {
   "cell_type": "code",
   "execution_count": 145,
   "metadata": {},
   "outputs": [],
   "source": [
    "#Question 1 operations to be performed\n",
    "def perform_operations_on_items(op):\n",
    "    msg = \"\"\n",
    "    if op == 1: \n",
    "        msg = \"Total number of items: \" + str(get_number_of_items())\n",
    "    elif op == 2:\n",
    "        msg = \"Total number of orders: \" + str(total_transaction())\n",
    "    elif op == 3: \n",
    "        inp = input(\"Kindly enter the name and cost of item in this format -> item_name:item_cost \")\n",
    "        inp_list = list(inp.split(':'))\n",
    "        if len(inp_list)<2:\n",
    "            msg = \"Input format is incorrect\"\n",
    "        else: \n",
    "            msg = add_item(inp_list[0],int(inp_list[1]))\n",
    "    elif op == 4:\n",
    "        item_name = input(\"Kindly enter the item name to be removed: \")\n",
    "        msg = remove_item(item_name)\n",
    "    else:\n",
    "        msg = \"Enter correct option!!\"\n",
    "    return msg"
   ]
  },
  {
   "cell_type": "code",
   "execution_count": 146,
   "metadata": {},
   "outputs": [
    {
     "name": "stdout",
     "output_type": "stream",
     "text": [
      "Following operation can be performed on items data: \n",
      " 1.Total number of items \n",
      " 2.Total number of orders \n",
      " 3.Add items \n",
      " 4.Remove item\n"
     ]
    },
    {
     "ename": "KeyboardInterrupt",
     "evalue": "Interrupted by user",
     "output_type": "error",
     "traceback": [
      "\u001b[1;31m---------------------------------------------------------------------------\u001b[0m",
      "\u001b[1;31mKeyboardInterrupt\u001b[0m                         Traceback (most recent call last)",
      "\u001b[1;32mC:\\Users\\PRIYA~1.SAV\\AppData\\Local\\Temp/ipykernel_46824/1807649477.py\u001b[0m in \u001b[0;36m<module>\u001b[1;34m\u001b[0m\n\u001b[0;32m      1\u001b[0m \u001b[1;31m#Execute this to perform Question 1\u001b[0m\u001b[1;33m\u001b[0m\u001b[1;33m\u001b[0m\u001b[0m\n\u001b[0;32m      2\u001b[0m \u001b[0mprint\u001b[0m\u001b[1;33m(\u001b[0m\u001b[1;34m\"Following operation can be performed on items data: \\n 1.Total number of items \\n 2.Total number of orders \\n 3.Add items \\n 4.Remove item\"\u001b[0m\u001b[1;33m)\u001b[0m\u001b[1;33m\u001b[0m\u001b[1;33m\u001b[0m\u001b[0m\n\u001b[1;32m----> 3\u001b[1;33m \u001b[0min_str\u001b[0m \u001b[1;33m=\u001b[0m \u001b[0mint\u001b[0m\u001b[1;33m(\u001b[0m\u001b[0minput\u001b[0m\u001b[1;33m(\u001b[0m\u001b[1;34m\"Kindly enter correct option: \"\u001b[0m\u001b[1;33m)\u001b[0m\u001b[1;33m)\u001b[0m\u001b[1;33m\u001b[0m\u001b[1;33m\u001b[0m\u001b[0m\n\u001b[0m\u001b[0;32m      4\u001b[0m \u001b[0mprint\u001b[0m\u001b[1;33m(\u001b[0m\u001b[0mperform_operations_on_items\u001b[0m\u001b[1;33m(\u001b[0m\u001b[0min_str\u001b[0m\u001b[1;33m)\u001b[0m\u001b[1;33m)\u001b[0m\u001b[1;33m\u001b[0m\u001b[1;33m\u001b[0m\u001b[0m\n",
      "\u001b[1;32m~\\Anaconda3\\lib\\site-packages\\ipykernel\\kernelbase.py\u001b[0m in \u001b[0;36mraw_input\u001b[1;34m(self, prompt)\u001b[0m\n\u001b[0;32m   1004\u001b[0m                 \u001b[1;34m\"raw_input was called, but this frontend does not support input requests.\"\u001b[0m\u001b[1;33m\u001b[0m\u001b[1;33m\u001b[0m\u001b[0m\n\u001b[0;32m   1005\u001b[0m             )\n\u001b[1;32m-> 1006\u001b[1;33m         return self._input_request(\n\u001b[0m\u001b[0;32m   1007\u001b[0m             \u001b[0mstr\u001b[0m\u001b[1;33m(\u001b[0m\u001b[0mprompt\u001b[0m\u001b[1;33m)\u001b[0m\u001b[1;33m,\u001b[0m\u001b[1;33m\u001b[0m\u001b[1;33m\u001b[0m\u001b[0m\n\u001b[0;32m   1008\u001b[0m             \u001b[0mself\u001b[0m\u001b[1;33m.\u001b[0m\u001b[0m_parent_ident\u001b[0m\u001b[1;33m[\u001b[0m\u001b[1;34m\"shell\"\u001b[0m\u001b[1;33m]\u001b[0m\u001b[1;33m,\u001b[0m\u001b[1;33m\u001b[0m\u001b[1;33m\u001b[0m\u001b[0m\n",
      "\u001b[1;32m~\\Anaconda3\\lib\\site-packages\\ipykernel\\kernelbase.py\u001b[0m in \u001b[0;36m_input_request\u001b[1;34m(self, prompt, ident, parent, password)\u001b[0m\n\u001b[0;32m   1049\u001b[0m             \u001b[1;32mexcept\u001b[0m \u001b[0mKeyboardInterrupt\u001b[0m\u001b[1;33m:\u001b[0m\u001b[1;33m\u001b[0m\u001b[1;33m\u001b[0m\u001b[0m\n\u001b[0;32m   1050\u001b[0m                 \u001b[1;31m# re-raise KeyboardInterrupt, to truncate traceback\u001b[0m\u001b[1;33m\u001b[0m\u001b[1;33m\u001b[0m\u001b[0m\n\u001b[1;32m-> 1051\u001b[1;33m                 \u001b[1;32mraise\u001b[0m \u001b[0mKeyboardInterrupt\u001b[0m\u001b[1;33m(\u001b[0m\u001b[1;34m\"Interrupted by user\"\u001b[0m\u001b[1;33m)\u001b[0m \u001b[1;32mfrom\u001b[0m \u001b[1;32mNone\u001b[0m\u001b[1;33m\u001b[0m\u001b[1;33m\u001b[0m\u001b[0m\n\u001b[0m\u001b[0;32m   1052\u001b[0m             \u001b[1;32mexcept\u001b[0m \u001b[0mException\u001b[0m\u001b[1;33m:\u001b[0m\u001b[1;33m\u001b[0m\u001b[1;33m\u001b[0m\u001b[0m\n\u001b[0;32m   1053\u001b[0m                 \u001b[0mself\u001b[0m\u001b[1;33m.\u001b[0m\u001b[0mlog\u001b[0m\u001b[1;33m.\u001b[0m\u001b[0mwarning\u001b[0m\u001b[1;33m(\u001b[0m\u001b[1;34m\"Invalid Message:\"\u001b[0m\u001b[1;33m,\u001b[0m \u001b[0mexc_info\u001b[0m\u001b[1;33m=\u001b[0m\u001b[1;32mTrue\u001b[0m\u001b[1;33m)\u001b[0m\u001b[1;33m\u001b[0m\u001b[1;33m\u001b[0m\u001b[0m\n",
      "\u001b[1;31mKeyboardInterrupt\u001b[0m: Interrupted by user"
     ]
    }
   ],
   "source": [
    "#Execute this to perform Question 1\n",
    "print(\"Following operation can be performed on items data: \\n 1.Total number of items \\n 2.Total number of orders \\n 3.Add items \\n 4.Remove item\")\n",
    "in_str = int(input(\"Kindly enter correct option: \"))\n",
    "print(perform_operations_on_items(in_str))"
   ]
  },
  {
   "cell_type": "code",
   "execution_count": null,
   "metadata": {},
   "outputs": [],
   "source": [
    "#Get the Price of item\n",
    "def item_price(item_name):\n",
    "    msg = \"\"\n",
    "    if item_name not in item_dict.keys(): #Check whether key exists\n",
    "        msg = item_name + \" is not present or name is not entered correctly\"\n",
    "    else:\n",
    "        msg = item_dict[item_name]\n",
    "    return msg"
   ]
  },
  {
   "cell_type": "code",
   "execution_count": null,
   "metadata": {},
   "outputs": [],
   "source": [
    "#Get order details for any transaciton number\n",
    "def get_order_details(order_num):\n",
    "    msg = \"\"\n",
    "    if order_num > len(transaction_data):\n",
    "        msg = \"Enter valid order number\"\n",
    "    else:\n",
    "        return transaction_data[order_num]\n",
    "    return msg"
   ]
  },
  {
   "cell_type": "code",
   "execution_count": null,
   "metadata": {},
   "outputs": [],
   "source": [
    "#Get the number of items present in any order:\n",
    "def count_items_order(order_num):\n",
    "    msg = \"\"\n",
    "    if order_num > len(transaction_data):\n",
    "        msg = \"Enter valid order number\"\n",
    "    else:\n",
    "        return len(transaction_data[order_num])\n",
    "    return msg"
   ]
  },
  {
   "cell_type": "code",
   "execution_count": null,
   "metadata": {},
   "outputs": [],
   "source": [
    "#Get the cost of any order\n",
    "def order_amount(order_num):\n",
    "    if order_num < len(transaction_data):\n",
    "        order_items = transaction_data[order_num]\n",
    "        tot_amount = 0\n",
    "        for i in order_items:\n",
    "            tot_amount = tot_amount+item_dict[i]\n",
    "        return tot_amount\n",
    "    else:\n",
    "        return \"Enter Valid order number\"\n"
   ]
  },
  {
   "cell_type": "code",
   "execution_count": null,
   "metadata": {},
   "outputs": [],
   "source": [
    "#Final cost after applying 5% tax\n",
    "def final_total(order_num):\n",
    "    order_cost = order_amount(order_num)\n",
    "    tax_amount = order_cost * 0.05\n",
    "    return order_cost+tax_amount"
   ]
  },
  {
   "cell_type": "code",
   "execution_count": null,
   "metadata": {},
   "outputs": [],
   "source": [
    "#Operations to be performed for Question 2\n",
    "def perform_operations_on_transaction(op):\n",
    "    msg = \"\"\n",
    "    if op == 1:\n",
    "        in_str = input(\"Kindly enter the item name to retrieve the cost\")\n",
    "        print(item_price(in_str))\n",
    "    elif op == 2:\n",
    "        in_str = int(input(\"Enter valid transaction number: \"))\n",
    "        print(get_order_details(in_str))\n",
    "    elif op == 3:\n",
    "        in_str = int(input(\"Enter valid transaction number: \"))\n",
    "        print(count_items_order(in_str))\n",
    "    elif op == 4:\n",
    "        in_str = int(input(\"Enter valid transaction number: \"))\n",
    "        print(order_amount(in_str))\n",
    "    elif op == 5:\n",
    "        in_str = int(input(\"Enter valid transaction number: \"))\n",
    "        print(final_total(in_str))\n",
    "    else:\n",
    "        print(\"Enter correct option\")   \n",
    "        "
   ]
  },
  {
   "cell_type": "code",
   "execution_count": null,
   "metadata": {},
   "outputs": [],
   "source": [
    "#Execute this to perform Question 2\n",
    "print(\"You can perform the following operations: \\n 1.Get price of an item \\n 2.Get order details \\n 3.Get total items in order \\n 4.Get order price \\n 5.Get total price with taxes\")\n",
    "in_str = int(input(\"Enter the correct option \"))\n",
    "perform_operations_on_transaction(in_str)"
   ]
  },
  {
   "cell_type": "code",
   "execution_count": null,
   "metadata": {},
   "outputs": [],
   "source": [
    "#Question 3 starts here\n",
    "frequency_dict = {}\n",
    "\n",
    "#Initialize the frequency counter with available transactions\n",
    "def initialize_counter():\n",
    "    for transaction in transaction_data:\n",
    "        update_counter(transaction)\n",
    "    return frequency_dict\n",
    "\n",
    "#Update frequency counter for every new transaction\n",
    "def update_counter(transaction):\n",
    "    for item in transaction:\n",
    "            if item in frequency_dict.keys():\n",
    "                frequency_dict[item] += 1\n",
    "            else:\n",
    "                frequency_dict[item] = 1\n",
    "    return frequency_dict"
   ]
  },
  {
   "cell_type": "code",
   "execution_count": 148,
   "metadata": {},
   "outputs": [
    {
     "name": "stdout",
     "output_type": "stream",
     "text": [
      "{'shrimp': 5, 'almonds': 3, 'avocado': 4, 'vegetables mix': 2, 'green grapes': 2, 'whole wheat flour': 2, 'yams': 2, 'cottage cheese': 2, 'energy drink': 2, 'tomato juice': 2, 'low fat yogurt': 6, 'green tea': 6, 'honey': 6, 'salad': 2, 'mineral water': 12, 'salmon': 6, 'antioxidant juice': 2, 'frozen smoothie': 2, 'spinach': 2, 'olive oil': 2, 'burgers': 4, 'meatballs': 4, 'eggs': 10, 'chutney': 2, 'turkey': 8, 'milk': 4, 'energy bar': 2, 'whole wheat rice': 2, 'whole wheat pasta': 2, 'french fries': 6, 'soup': 2, 'light cream': 2, 'shallot': 2, 'frozen vegetables': 2, 'spaghetti': 6, 'pet food': 2, 'cookies': 4, 'cooking oil': 4, 'champagne': 2, 'chocolate': 2, 'chicken': 4, 'oil': 2, 'fresh tuna': 2, 'tomatoes': 2, 'black tea': 2, 'extra dark chocolate': 2, 'protein bar': 2}\n",
      "Do you want to add new transaction? Y/NY\n",
      "Enter order details separate by commashrimp,almonds\n",
      "{'shrimp': 6, 'almonds': 4, 'avocado': 4, 'vegetables mix': 2, 'green grapes': 2, 'whole wheat flour': 2, 'yams': 2, 'cottage cheese': 2, 'energy drink': 2, 'tomato juice': 2, 'low fat yogurt': 6, 'green tea': 6, 'honey': 6, 'salad': 2, 'mineral water': 12, 'salmon': 6, 'antioxidant juice': 2, 'frozen smoothie': 2, 'spinach': 2, 'olive oil': 2, 'burgers': 4, 'meatballs': 4, 'eggs': 10, 'chutney': 2, 'turkey': 8, 'milk': 4, 'energy bar': 2, 'whole wheat rice': 2, 'whole wheat pasta': 2, 'french fries': 6, 'soup': 2, 'light cream': 2, 'shallot': 2, 'frozen vegetables': 2, 'spaghetti': 6, 'pet food': 2, 'cookies': 4, 'cooking oil': 4, 'champagne': 2, 'chocolate': 2, 'chicken': 4, 'oil': 2, 'fresh tuna': 2, 'tomatoes': 2, 'black tea': 2, 'extra dark chocolate': 2, 'protein bar': 2}\n"
     ]
    }
   ],
   "source": [
    "#Initialize call\n",
    "initialize_counter()\n",
    "\n",
    "#print(frequency_dict) #Print frequency counter with data\n"
   ]
  },
  {
   "cell_type": "code",
   "execution_count": 165,
   "metadata": {},
   "outputs": [
    {
     "name": "stdout",
     "output_type": "stream",
     "text": [
      "\u001b[1mDo you want to add new transaction? Y/N\u001b[0m\n",
      "0\n",
      "{'shrimp': 6, 'almonds': 4, 'avocado': 4, 'vegetables mix': 2, 'green grapes': 2, 'whole wheat flour': 2, 'yams': 2, 'cottage cheese': 2, 'energy drink': 2, 'tomato juice': 2, 'low fat yogurt': 6, 'green tea': 6, 'honey': 6, 'salad': 2, 'mineral water': 12, 'salmon': 6, 'antioxidant juice': 2, 'frozen smoothie': 2, 'spinach': 2, 'olive oil': 2, 'burgers': 4, 'meatballs': 4, 'eggs': 10, 'chutney': 2, 'turkey': 8, 'milk': 4, 'energy bar': 2, 'whole wheat rice': 2, 'whole wheat pasta': 2, 'french fries': 6, 'soup': 2, 'light cream': 2, 'shallot': 2, 'frozen vegetables': 2, 'spaghetti': 6, 'pet food': 2, 'cookies': 4, 'cooking oil': 4, 'champagne': 2, 'chocolate': 2, 'chicken': 4, 'oil': 2, 'fresh tuna': 2, 'tomatoes': 2, 'black tea': 2, 'extra dark chocolate': 2, 'protein bar': 2}\n"
     ]
    }
   ],
   "source": [
    "#In case new transaction is added\n",
    "print(\"\\033[1mDo you want to add new transaction? Y/N\\033[0m\")\n",
    "in_st = input()\n",
    "if in_st == 'Y':\n",
    "    print(\"\\033[1mEnter order details separate by comma\\033[0m\")\n",
    "    in_str = input()\n",
    "    in_list = in_str.split(',')\n",
    "    update_counter(in_list)\n",
    "print(frequency_dict)"
   ]
  },
  {
   "cell_type": "code",
   "execution_count": 149,
   "metadata": {},
   "outputs": [
    {
     "name": "stdout",
     "output_type": "stream",
     "text": [
      "['mineral water', 'eggs', 'turkey']\n"
     ]
    }
   ],
   "source": [
    "#Inbuilt function sort to get the top 3 items\n",
    "def get_top_three_items():\n",
    "    top_items = sorted(frequency_dict, key=frequency_dict.get, reverse=True)[:3]\n",
    "    return top_items\n",
    "print(get_top_three_items())"
   ]
  },
  {
   "cell_type": "code",
   "execution_count": 150,
   "metadata": {},
   "outputs": [
    {
     "name": "stdout",
     "output_type": "stream",
     "text": [
      "{'vegetables mix': 2, 'green grapes': 2, 'whole wheat flour': 2, 'yams': 2, 'cottage cheese': 2, 'energy drink': 2, 'tomato juice': 2, 'salad': 2, 'antioxidant juice': 2, 'frozen smoothie': 2, 'spinach': 2, 'olive oil': 2, 'chutney': 2, 'energy bar': 2, 'whole wheat rice': 2, 'whole wheat pasta': 2, 'soup': 2, 'light cream': 2, 'shallot': 2, 'frozen vegetables': 2, 'pet food': 2, 'champagne': 2, 'chocolate': 2, 'oil': 2, 'fresh tuna': 2, 'tomatoes': 2, 'black tea': 2, 'extra dark chocolate': 2, 'protein bar': 2, 'almonds': 4, 'avocado': 4, 'burgers': 4, 'meatballs': 4, 'milk': 4, 'cookies': 4, 'cooking oil': 4, 'chicken': 4, 'shrimp': 6, 'low fat yogurt': 6, 'green tea': 6, 'honey': 6, 'salmon': 6, 'french fries': 6, 'spaghetti': 6, 'turkey': 8, 'eggs': 10, 'mineral water': 12}\n"
     ]
    }
   ],
   "source": [
    "#Sorting Algorithms \n",
    "algo_times ={}   # Dictionary to store algorithm with their times\n",
    " \n",
    "#Merge Sort Algorithm\n",
    "import itertools\n",
    "import time \n",
    "\n",
    "def merge(arr_keys,arr_val, l, m, r):\n",
    "    n1 = m - l + 1\n",
    "    n2 = r - m\n",
    " \n",
    "    # create temp arrays\n",
    "    L_val = [0] * (n1)\n",
    "    R_val = [0] * (n2)\n",
    "    \n",
    "    # create temp arrays\n",
    "    L_keys = [0] * (n1)\n",
    "    R_keys = [0] * (n2)\n",
    "    \n",
    "    \n",
    "    # Copy data to temp arrays\n",
    "    for i in range(0, n1):\n",
    "        L_val[i] = arr_val[l + i]\n",
    "        L_keys[i] = arr_keys[l + i]\n",
    "        \n",
    " \n",
    "    for j in range(0, n2):\n",
    "        R_val[j] = arr_val[m + 1 + j]\n",
    "        R_keys[j] = arr_keys[m + 1 + j]\n",
    "    \n",
    "    # Merge the temp arrays back into arr[l..r]\n",
    "    i = 0     \n",
    "    j = 0     \n",
    "    k = l     \n",
    " \n",
    "    while i < n1 and j < n2:\n",
    "        if L_val[i] <= R_val[j]:\n",
    "            arr_val[k] = L_val[i]\n",
    "            arr_keys[k] = L_keys[i]\n",
    "            i += 1\n",
    "        else:\n",
    "            arr_val[k] = R_val[j]\n",
    "            arr_keys[k] = R_keys[j]\n",
    "            j += 1\n",
    "        k += 1\n",
    " \n",
    "    while i < n1:\n",
    "        arr_val[k] = L_val[i]\n",
    "        arr_keys[k] = L_keys[i]\n",
    "        i += 1\n",
    "        k += 1\n",
    " \n",
    "    while j < n2:\n",
    "        arr_val[k] = R_val[j]\n",
    "        arr_keys[k] = R_keys[j]\n",
    "        j += 1\n",
    "        k += 1\n",
    "    \n",
    " \n",
    "def mergeSort(arr_keys,arr_val, l, r):\n",
    "    if l < r:\n",
    " \n",
    "        # Same as (l+r)//2, but avoids overflow for\n",
    "        # large l and h\n",
    "        m = l+(r-l)//2\n",
    " \n",
    "        # Sort first and second halves\n",
    "        mergeSort(arr_keys,arr_val, l, m)\n",
    "        mergeSort(arr_keys,arr_val, m+1, r)\n",
    "        merge(arr_keys,arr_val, l, m, r)\n",
    "\n",
    " \n",
    "\n",
    "def merge_dict(frequency_dict):\n",
    "    n = len(frequency_dict)\n",
    "\n",
    "    keys = list(frequency_dict.keys())\n",
    "    values = list(frequency_dict.values())\n",
    "    mergeSort(keys,values, 0, n-1)\n",
    "    \n",
    "    frequency_dict = {keys[i]: values[i] for i in range(0,n)}\n",
    "    return frequency_dict\n",
    "\n",
    "\n",
    "start = time.time()\n",
    "print(merge_dict(frequency_dict))\n",
    "end = time.time()\n",
    "\n",
    "algo_times[\"Merge\"] = end -start\n",
    "#print(merge_sort_time)\n"
   ]
  },
  {
   "cell_type": "code",
   "execution_count": 151,
   "metadata": {},
   "outputs": [
    {
     "name": "stdout",
     "output_type": "stream",
     "text": [
      "{'vegetables mix': 2, 'green grapes': 2, 'whole wheat flour': 2, 'yams': 2, 'cottage cheese': 2, 'energy drink': 2, 'tomato juice': 2, 'salad': 2, 'antioxidant juice': 2, 'frozen smoothie': 2, 'spinach': 2, 'olive oil': 2, 'chutney': 2, 'energy bar': 2, 'whole wheat rice': 2, 'whole wheat pasta': 2, 'soup': 2, 'light cream': 2, 'shallot': 2, 'frozen vegetables': 2, 'pet food': 2, 'champagne': 2, 'chocolate': 2, 'oil': 2, 'fresh tuna': 2, 'tomatoes': 2, 'black tea': 2, 'extra dark chocolate': 2, 'protein bar': 2, 'almonds': 4, 'avocado': 4, 'burgers': 4, 'meatballs': 4, 'milk': 4, 'cookies': 4, 'cooking oil': 4, 'chicken': 4, 'shrimp': 6, 'low fat yogurt': 6, 'green tea': 6, 'honey': 6, 'salmon': 6, 'french fries': 6, 'spaghetti': 6, 'turkey': 8, 'eggs': 10, 'mineral water': 12}\n"
     ]
    }
   ],
   "source": [
    "#Insertion Sort\n",
    "import time\n",
    "def insertSort(arr_keys,arr_val):\n",
    "  \n",
    "    for i in range(1, len(arr_keys)):\n",
    "  \n",
    "        val = arr_val[i]\n",
    "        key = arr_keys[i]\n",
    "        j = i-1\n",
    "        while j >=0 and val < arr_val[j] :\n",
    "                arr_val[j+1] = arr_val[j]\n",
    "                arr_keys[j+1] = arr_keys[j]\n",
    "                j -= 1\n",
    "        arr_val[j+1] = val\n",
    "        arr_keys[j+1] = key\n",
    "        \n",
    "\n",
    "def insert_dict(frequency_dict):\n",
    "    n = len(frequency_dict)\n",
    "\n",
    "    keys = list(frequency_dict.keys())\n",
    "    values = list(frequency_dict.values())\n",
    "    insertSort(keys,values)\n",
    "    \n",
    "    frequency_dict = {keys[i]: values[i] for i in range(0,n)}\n",
    "    return frequency_dict\n",
    "\n",
    "start = time.time()\n",
    "print(insert_dict(frequency_dict))\n",
    "end = time.time()\n",
    "algo_times[\"Insertion\"]  = end - start\n",
    "#print(end - start)"
   ]
  },
  {
   "cell_type": "code",
   "execution_count": 152,
   "metadata": {},
   "outputs": [
    {
     "name": "stdout",
     "output_type": "stream",
     "text": [
      "{'vegetables mix': 2, 'green grapes': 2, 'whole wheat flour': 2, 'yams': 2, 'cottage cheese': 2, 'energy drink': 2, 'tomato juice': 2, 'salad': 2, 'antioxidant juice': 2, 'frozen smoothie': 2, 'spinach': 2, 'olive oil': 2, 'chutney': 2, 'energy bar': 2, 'whole wheat rice': 2, 'whole wheat pasta': 2, 'soup': 2, 'light cream': 2, 'shallot': 2, 'frozen vegetables': 2, 'pet food': 2, 'champagne': 2, 'chocolate': 2, 'oil': 2, 'fresh tuna': 2, 'tomatoes': 2, 'black tea': 2, 'extra dark chocolate': 2, 'protein bar': 2, 'avocado': 4, 'burgers': 4, 'cookies': 4, 'cooking oil': 4, 'meatballs': 4, 'chicken': 4, 'milk': 4, 'almonds': 4, 'low fat yogurt': 6, 'green tea': 6, 'spaghetti': 6, 'honey': 6, 'french fries': 6, 'shrimp': 6, 'salmon': 6, 'turkey': 8, 'eggs': 10, 'mineral water': 12}\n"
     ]
    }
   ],
   "source": [
    "import time\n",
    "def selection_sort(arr_keys,arr_val):\n",
    "    for i in range(len(arr_keys)):\n",
    "          \n",
    "        min_idx = i\n",
    "        for j in range(i+1, len(arr_keys)):\n",
    "            if arr_val[min_idx] > arr_val[j]:\n",
    "                min_idx = j\n",
    "                  \n",
    "        # Swap the found minimum element with the first element        \n",
    "        arr_val[i], arr_val[min_idx] = arr_val[min_idx], arr_val[i]\n",
    "        arr_keys[i], arr_keys[min_idx] = arr_keys[min_idx], arr_keys[i]\n",
    "        \n",
    "        \n",
    "def select_dict(frequency_dict):\n",
    "    n = len(frequency_dict)\n",
    "\n",
    "    keys = list(frequency_dict.keys())\n",
    "    values = list(frequency_dict.values())\n",
    "    selection_sort(keys,values)\n",
    "    \n",
    "    frequency_dict = {keys[i]: values[i] for i in range(0,n)}\n",
    "    return frequency_dict\n",
    "\n",
    "\n",
    "start = time.time()\n",
    "print(select_dict(frequency_dict))\n",
    "end = time.time()\n",
    "algo_times[\"Selection\"]  = end - start\n",
    "#print(selectionSortTime)"
   ]
  },
  {
   "cell_type": "code",
   "execution_count": 163,
   "metadata": {},
   "outputs": [
    {
     "name": "stdout",
     "output_type": "stream",
     "text": [
      "\u001b[1mAlgorithms - time\u001b[0m\n",
      "Merge - 0.0009982585906982422\n",
      "Insertion - 0.00199127197265625\n",
      "Selection - 0.0009961128234863281\n",
      "\u001b[1mAlgorithms sorted as per time\u001b[0m\n",
      "Insertion 0.00199127197265625\n",
      "Merge 0.0009982585906982422\n",
      "Selection 0.0009961128234863281\n"
     ]
    }
   ],
   "source": [
    "#Printing Algoritms with time\n",
    "print(\"\\033[1mAlgorithms - time\\033[0m\")\n",
    "for i in algo_times.keys():\n",
    "    print(i,'-',algo_times[i])\n",
    "\n",
    "print(\"\\033[1mAlgorithms sorted as per time\\033[0m\")\n",
    "for i in sorted(algo_times, key=algo_times.get, reverse=True):\n",
    "    print(i,algo_times[i])"
   ]
  },
  {
   "cell_type": "code",
   "execution_count": null,
   "metadata": {},
   "outputs": [],
   "source": []
  }
 ],
 "metadata": {
  "celltoolbar": "Raw Cell Format",
  "colab": {
   "name": "Data.ipynb",
   "provenance": []
  },
  "kernelspec": {
   "display_name": "Python 3 (ipykernel)",
   "language": "python",
   "name": "python3"
  },
  "language_info": {
   "codemirror_mode": {
    "name": "ipython",
    "version": 3
   },
   "file_extension": ".py",
   "mimetype": "text/x-python",
   "name": "python",
   "nbconvert_exporter": "python",
   "pygments_lexer": "ipython3",
   "version": "3.9.7"
  }
 },
 "nbformat": 4,
 "nbformat_minor": 1
}
